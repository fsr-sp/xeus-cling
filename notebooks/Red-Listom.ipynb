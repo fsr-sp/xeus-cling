{
 "cells": [
  {
   "cell_type": "markdown",
   "metadata": {},
   "source": [
    "# Realizacija reda listom"
   ]
  },
  {
   "cell_type": "code",
   "execution_count": 2,
   "metadata": {},
   "outputs": [],
   "source": [
    "#include <iostream>\n",
    "#include <stdio.h>\n",
    "#include <stdlib.h>\n",
    "#include <string.h>\n",
    "using namespace std;"
   ]
  },
  {
   "cell_type": "code",
   "execution_count": 3,
   "metadata": {},
   "outputs": [],
   "source": [
    "typedef struct c {\n",
    "    int broj;\n",
    "    struct c *sljed;\n",
    "}cvor;\n",
    "\n",
    "typedef struct {\n",
    "    cvor *ulaz;\n",
    "    cvor *izlaz;\n",
    "}Red;"
   ]
  },
  {
   "cell_type": "code",
   "execution_count": 4,
   "metadata": {},
   "outputs": [],
   "source": [
    "cvor *novicvor(int broj) {\n",
    "    cvor *pom = (cvor *)malloc(sizeof(cvor));\n",
    "    if (pom == NULL)\n",
    "        return NULL;\n",
    "    pom->broj = broj;\n",
    "    pom->sljed = NULL;\n",
    "    return pom;\n",
    "}"
   ]
  },
  {
   "cell_type": "code",
   "execution_count": 5,
   "metadata": {},
   "outputs": [],
   "source": [
    "int init(Red *red) {\n",
    "    red->ulaz = NULL;\n",
    "    red->izlaz = NULL;\n",
    "    return 1;\n",
    "}"
   ]
  },
  {
   "cell_type": "code",
   "execution_count": 6,
   "metadata": {},
   "outputs": [],
   "source": [
    "int dodaj(Red *red, int element) {\n",
    "    cvor *novi = novicvor(element);\n",
    "    if (novi == NULL)\n",
    "        return 0;\n",
    "    if (red->izlaz == NULL)\n",
    "        red->izlaz = novi;\n",
    "    else\n",
    "        red->ulaz->sljed = novi;\n",
    "    red->ulaz = novi;\n",
    "    return 1;\n",
    "}"
   ]
  },
  {
   "cell_type": "code",
   "execution_count": 7,
   "metadata": {},
   "outputs": [],
   "source": [
    "int skini(Red *red, int *element) {\n",
    "    if (red->izlaz == NULL)\n",
    "        return 0;\n",
    "    *element = red->izlaz->broj;\n",
    "    cvor *pom = red->izlaz;\n",
    "    red->izlaz = pom->sljed;\n",
    "    free(pom);\n",
    "    if(red->izlaz == NULL)\n",
    "        red->ulaz = NULL;\n",
    "    return 1;\n",
    "}"
   ]
  },
  {
   "cell_type": "code",
   "execution_count": 16,
   "metadata": {},
   "outputs": [],
   "source": [
    "void ispis(Red *red){\n",
    "    int element;\n",
    "    Red pom;\n",
    "    init(&pom);\n",
    "    printf(\"Izlaz -> \"); \n",
    "    while(skini(red, &element)){\n",
    "        dodaj(&pom, element);\n",
    "        printf(\"%d \", element);\n",
    "    }\n",
    "        \n",
    "    while(skini(&pom, &element))\n",
    "        dodaj(red, element);\n",
    "    printf(\"<- Ulaz\");\n",
    "}"
   ]
  },
  {
   "cell_type": "code",
   "execution_count": 18,
   "metadata": {},
   "outputs": [
    {
     "name": "stdout",
     "output_type": "stream",
     "text": [
      "Izlaz -> 18 12 9 6 2 <- Ulaz"
     ]
    }
   ],
   "source": [
    "Red red;\n",
    "init(&red);\n",
    "dodaj(&red, 18);\n",
    "dodaj(&red, 12);\n",
    "dodaj(&red, 9);;\n",
    "dodaj(&red, 6);\n",
    "dodaj(&red, 2);\n",
    "\n",
    "ispis(&red);"
   ]
  },
  {
   "cell_type": "markdown",
   "metadata": {},
   "source": [
    "#### Zadatak 1.\n",
    "Napisati funkciju vraća element s početka reda (eng. peek)."
   ]
  },
  {
   "cell_type": "code",
   "execution_count": 12,
   "metadata": {},
   "outputs": [],
   "source": [
    "int peek(Red *red)\n",
    "{\n",
    "    return 1;\n",
    "}"
   ]
  },
  {
   "cell_type": "markdown",
   "metadata": {},
   "source": [
    "#### Zadatak 2.\n",
    "Napisati funkciju koja prebrojava broj elemata u redu (eng size)."
   ]
  },
  {
   "cell_type": "code",
   "execution_count": 13,
   "metadata": {},
   "outputs": [],
   "source": [
    "int broj_elemenata(Red *red)\n",
    "{\n",
    "    return 1;\n",
    "}"
   ]
  },
  {
   "cell_type": "markdown",
   "metadata": {},
   "source": [
    "#### Zadatak 3.\n",
    "Napisati funkciju za brisanje reda."
   ]
  },
  {
   "cell_type": "code",
   "execution_count": 39,
   "metadata": {},
   "outputs": [],
   "source": [
    "int prazni(Red *stog)\n",
    "{\n",
    "    return 1;\n",
    "}"
   ]
  }
 ],
 "metadata": {
  "kernelspec": {
   "display_name": "C++17",
   "language": "C++17",
   "name": "xcpp17"
  },
  "language_info": {
   "codemirror_mode": "text/x-c++src",
   "file_extension": ".cpp",
   "mimetype": "text/x-c++src",
   "name": "c++",
   "version": "17"
  }
 },
 "nbformat": 4,
 "nbformat_minor": 4
}
