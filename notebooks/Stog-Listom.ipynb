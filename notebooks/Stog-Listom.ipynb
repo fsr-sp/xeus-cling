{
 "cells": [
  {
   "cell_type": "markdown",
   "metadata": {},
   "source": [
    "# Realizacija stoga listom"
   ]
  },
  {
   "cell_type": "code",
   "execution_count": 2,
   "metadata": {},
   "outputs": [],
   "source": [
    "#include <iostream>\n",
    "#include <stdio.h>\n",
    "#include <stdlib.h>\n",
    "#include <string.h>\n",
    "#include <math.h>\n",
    "using namespace std;"
   ]
  },
  {
   "cell_type": "code",
   "execution_count": 3,
   "metadata": {},
   "outputs": [],
   "source": [
    "typedef struct c {\n",
    "    int broj;\n",
    "    struct c *sljed;\n",
    "}cvor;\n",
    "\n",
    "typedef struct {\n",
    "    cvor *vrh;\n",
    "}Stog;"
   ]
  },
  {
   "cell_type": "code",
   "execution_count": 4,
   "metadata": {},
   "outputs": [],
   "source": [
    "cvor *novicvor(int broj) {\n",
    "    cvor *pom = (cvor *)malloc(sizeof(cvor));\n",
    "    if (pom == NULL)\n",
    "        return NULL;\n",
    "    pom->broj = broj;\n",
    "    pom->sljed = 0;\n",
    "    return pom;\n",
    "}"
   ]
  },
  {
   "cell_type": "code",
   "execution_count": 5,
   "metadata": {},
   "outputs": [],
   "source": [
    "int init(Stog *stog) {\n",
    "    stog->vrh = NULL;\n",
    "    return 1;\n",
    "}"
   ]
  },
  {
   "cell_type": "code",
   "execution_count": 6,
   "metadata": {},
   "outputs": [],
   "source": [
    "int dodaj(Stog *stog, int element) {\n",
    "    cvor *pom = novicvor(element);\n",
    "    if (pom == NULL)\n",
    "        return 0;\n",
    "    pom->sljed = stog->vrh;\n",
    "    stog->vrh = pom;\n",
    "    return 1;\n",
    "}"
   ]
  },
  {
   "cell_type": "code",
   "execution_count": 7,
   "metadata": {},
   "outputs": [],
   "source": [
    "int skini(Stog *stog, int *element) {\n",
    "    if (stog->vrh == NULL)\n",
    "        return 0;\n",
    "    cvor *pom = stog->vrh;\n",
    "    stog->vrh = pom->sljed;\n",
    "    *element = pom->broj;\n",
    "    free(pom);\n",
    "    return 1;\n",
    "}"
   ]
  },
  {
   "cell_type": "code",
   "execution_count": 8,
   "metadata": {},
   "outputs": [],
   "source": [
    "void print(Stog stog) {\n",
    "    printf(\"vrh -> \");\n",
    "    cvor *glava = stog.vrh;\n",
    "    while (glava != NULL) {\n",
    "        printf(\"\\t%d\\n\", glava->broj);\n",
    "        glava = glava->sljed;\n",
    "    }\n",
    "}"
   ]
  },
  {
   "cell_type": "code",
   "execution_count": 9,
   "metadata": {},
   "outputs": [],
   "source": [
    "Stog stog;"
   ]
  },
  {
   "cell_type": "code",
   "execution_count": 10,
   "metadata": {},
   "outputs": [],
   "source": [
    "init(&stog);\n",
    "dodaj(&stog, 5);\n",
    "dodaj(&stog, 22);\n",
    "dodaj(&stog, 7);\n",
    "dodaj(&stog, 15);"
   ]
  },
  {
   "cell_type": "code",
   "execution_count": 11,
   "metadata": {},
   "outputs": [
    {
     "name": "stdout",
     "output_type": "stream",
     "text": [
      "vrh -> \t15\n",
      "\t7\n",
      "\t22\n",
      "\t5\n"
     ]
    }
   ],
   "source": [
    "print(stog);"
   ]
  },
  {
   "cell_type": "markdown",
   "metadata": {},
   "source": [
    "#### Zadatak 1.\n",
    "Napisati funkciju vraća element koji se nalazi na vrhu stoga."
   ]
  },
  {
   "cell_type": "code",
   "execution_count": 13,
   "metadata": {},
   "outputs": [],
   "source": [
    "int peek(Stog *stog)\n",
    "{\n",
    "    return -1;\n",
    "}"
   ]
  },
  {
   "cell_type": "markdown",
   "metadata": {},
   "source": [
    "#### Zadatak 2.\n",
    "Napisati funkciju koja vraća zbroj elemenata u stogu."
   ]
  },
  {
   "cell_type": "code",
   "execution_count": 14,
   "metadata": {},
   "outputs": [],
   "source": [
    "int zbroj(Stog *stog)\n",
    "{\n",
    "    return -1;\n",
    "}"
   ]
  },
  {
   "cell_type": "markdown",
   "metadata": {},
   "source": [
    "#### Zadatak 3.\n",
    "Napisati funkciju za brisanje stoga."
   ]
  },
  {
   "cell_type": "code",
   "execution_count": 15,
   "metadata": {},
   "outputs": [],
   "source": [
    "int brisi(Stog *stog)\n",
    "{\n",
    "    return -1;\n",
    "}"
   ]
  },
  {
   "cell_type": "code",
   "execution_count": null,
   "metadata": {},
   "outputs": [],
   "source": []
  }
 ],
 "metadata": {
  "kernelspec": {
   "display_name": "C++17",
   "language": "C++17",
   "name": "xcpp17"
  },
  "language_info": {
   "codemirror_mode": "text/x-c++src",
   "file_extension": ".cpp",
   "mimetype": "text/x-c++src",
   "name": "c++",
   "version": "17"
  }
 },
 "nbformat": 4,
 "nbformat_minor": 4
}
