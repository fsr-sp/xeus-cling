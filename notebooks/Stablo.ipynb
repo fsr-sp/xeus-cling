{
 "cells": [
  {
   "cell_type": "markdown",
   "metadata": {},
   "source": [
    "# Stablo"
   ]
  },
  {
   "cell_type": "code",
   "execution_count": 13,
   "metadata": {},
   "outputs": [],
   "source": [
    "#include <iostream>\n",
    "#include <stdio.h>\n",
    "#include <stdlib.h>\n",
    "#include <string.h>\n",
    "using namespace std;"
   ]
  },
  {
   "cell_type": "code",
   "execution_count": 4,
   "metadata": {},
   "outputs": [],
   "source": [
    "typedef struct c {\n",
    "    int broj;\n",
    "    struct c *lijevo;\n",
    "    struct c *desno;\n",
    "}cvor;\n"
   ]
  },
  {
   "cell_type": "code",
   "execution_count": 5,
   "metadata": {},
   "outputs": [],
   "source": [
    "cvor *novicvor(int broj) {\n",
    "    cvor *pom = (cvor *)malloc(sizeof(cvor));\n",
    "    pom->broj = broj;\n",
    "    pom->lijevo = NULL;\n",
    "    pom->desno = NULL;\n",
    "    return pom;\n",
    "}"
   ]
  },
  {
   "cell_type": "code",
   "execution_count": 6,
   "metadata": {},
   "outputs": [],
   "source": [
    "cvor *dodaj(cvor **korijen, int element) {\n",
    "    if (*korijen == NULL) \n",
    "        *korijen = novicvor(element);\n",
    "    else if (element < (*korijen)->broj)\n",
    "        (*korijen)->lijevo = dodaj(&(*korijen)->lijevo, element);\n",
    "    else\n",
    "        (*korijen)->desno = dodaj(&(*korijen)->desno, element);\n",
    "    return *korijen;\n",
    "}"
   ]
  },
  {
   "cell_type": "code",
   "execution_count": 7,
   "metadata": {},
   "outputs": [],
   "source": [
    "cvor *glava = NULL;"
   ]
  },
  {
   "cell_type": "code",
   "execution_count": 8,
   "metadata": {},
   "outputs": [],
   "source": [
    "cvor *korijen = NULL;\n",
    "dodaj(&korijen, 10);\n",
    "dodaj(&korijen, 5);\n",
    "dodaj(&korijen, 15);\n",
    "dodaj(&korijen, 6);\n",
    "dodaj(&korijen, 4);"
   ]
  },
  {
   "cell_type": "markdown",
   "metadata": {},
   "source": [
    "#### Zadatak 1."
   ]
  },
  {
   "cell_type": "code",
   "execution_count": 10,
   "metadata": {},
   "outputs": [],
   "source": [
    "int trazi(cvor *glava, int element)\n",
    "{\n",
    "    return 1;\n",
    "}"
   ]
  },
  {
   "cell_type": "markdown",
   "metadata": {},
   "source": [
    "#### Zadatak 2."
   ]
  },
  {
   "cell_type": "code",
   "execution_count": 11,
   "metadata": {},
   "outputs": [],
   "source": [
    "int broj_elemenata(cvor *glava)\n",
    "{\n",
    "    return 1;\n",
    "}"
   ]
  },
  {
   "cell_type": "markdown",
   "metadata": {},
   "source": [
    "#### Zadatak 3."
   ]
  },
  {
   "cell_type": "code",
   "execution_count": 12,
   "metadata": {},
   "outputs": [],
   "source": [
    "int zbroj(cvor *glava)\n",
    "{\n",
    "    return 1;\n",
    "}"
   ]
  },
  {
   "cell_type": "code",
   "execution_count": null,
   "metadata": {},
   "outputs": [],
   "source": []
  }
 ],
 "metadata": {
  "kernelspec": {
   "display_name": "C++17",
   "language": "C++17",
   "name": "xcpp17"
  },
  "language_info": {
   "codemirror_mode": "text/x-c++src",
   "file_extension": ".cpp",
   "mimetype": "text/x-c++src",
   "name": "c++",
   "version": "17"
  }
 },
 "nbformat": 4,
 "nbformat_minor": 4
}
