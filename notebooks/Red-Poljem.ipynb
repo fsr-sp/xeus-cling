{
 "cells": [
  {
   "cell_type": "markdown",
   "metadata": {},
   "source": [
    "# Realizacija reda poljem"
   ]
  },
  {
   "cell_type": "code",
   "execution_count": 2,
   "metadata": {},
   "outputs": [],
   "source": [
    "#include <iostream>\n",
    "#include <stdio.h>\n",
    "#include <stdlib.h>\n",
    "#include <string.h>\n",
    "using namespace std;"
   ]
  },
  {
   "cell_type": "code",
   "execution_count": 3,
   "metadata": {},
   "outputs": [],
   "source": [
    "#define MAXRED 5\n",
    "\n",
    "typedef struct {\n",
    "    int polje[MAXRED];\n",
    "    int ulaz;\n",
    "    int izlaz;\n",
    "} Red;"
   ]
  },
  {
   "cell_type": "code",
   "execution_count": 4,
   "metadata": {},
   "outputs": [],
   "source": [
    "void init(Red *red) {\n",
    "    red->ulaz = 0;\n",
    "    red->izlaz = 0;\n",
    "}"
   ]
  },
  {
   "cell_type": "code",
   "execution_count": 5,
   "metadata": {},
   "outputs": [],
   "source": [
    "int dodaj(Red *red, int element) {\n",
    "    if ((red->ulaz +1)%MAXRED == red->izlaz)\n",
    "        return 0;\n",
    "    red->ulaz = (red->ulaz + 1) % MAXRED;\n",
    "    red->polje[red->ulaz] = element;\n",
    "    return 1;\n",
    "}"
   ]
  },
  {
   "cell_type": "code",
   "execution_count": 6,
   "metadata": {},
   "outputs": [],
   "source": [
    "int skini(Red *red, int *element) {\n",
    "    if (red->izlaz == red->ulaz)\n",
    "        return 0;\n",
    "    red->izlaz = (red->izlaz + 1) % MAXRED;\n",
    "    *element = red->polje[red->izlaz];\n",
    "    return 1;\n",
    "}"
   ]
  },
  {
   "cell_type": "code",
   "execution_count": 7,
   "metadata": {},
   "outputs": [],
   "source": [
    "void ispis(Red *red){\n",
    "    int element;\n",
    "    Red pom;\n",
    "    init(&pom);\n",
    "    printf(\"Izlaz -> \"); \n",
    "    while(skini(red, &element)){\n",
    "        dodaj(&pom, element);\n",
    "        printf(\"%d \", element);\n",
    "    }\n",
    "        \n",
    "    while(skini(&pom, &element))\n",
    "        dodaj(red, element);\n",
    "    printf(\"<- Ulaz\");\n",
    "}"
   ]
  },
  {
   "cell_type": "code",
   "execution_count": 8,
   "metadata": {},
   "outputs": [],
   "source": [
    "Red red;"
   ]
  },
  {
   "cell_type": "code",
   "execution_count": 9,
   "metadata": {},
   "outputs": [],
   "source": [
    "init(&red);\n",
    "dodaj(&red, 5);\n",
    "dodaj(&red, 22);\n",
    "dodaj(&red, 7);\n",
    "dodaj(&red, 15);"
   ]
  },
  {
   "cell_type": "code",
   "execution_count": 10,
   "metadata": {},
   "outputs": [
    {
     "name": "stdout",
     "output_type": "stream",
     "text": [
      "Izlaz -> 5 22 7 15 <- Ulaz"
     ]
    }
   ],
   "source": [
    "ispis(&red)"
   ]
  },
  {
   "cell_type": "markdown",
   "metadata": {},
   "source": [
    "#### Zadatak 1.\n",
    "Napisati funkciju vraća element s početka reda (eng. peek)."
   ]
  },
  {
   "cell_type": "code",
   "execution_count": 11,
   "metadata": {},
   "outputs": [],
   "source": [
    "int peek(Red *red)\n",
    "{\n",
    "    return -1;\n",
    "}"
   ]
  },
  {
   "cell_type": "code",
   "execution_count": 12,
   "metadata": {},
   "outputs": [
    {
     "data": {
      "text/plain": [
       "-1"
      ]
     },
     "execution_count": 12,
     "metadata": {},
     "output_type": "execute_result"
    }
   ],
   "source": [
    "peek(&red)"
   ]
  },
  {
   "cell_type": "markdown",
   "metadata": {},
   "source": [
    "#### Zadatak 2.\n",
    "Napisati funkciju koja prebrojava broj elemata u redu (eng size)."
   ]
  },
  {
   "cell_type": "code",
   "execution_count": 13,
   "metadata": {},
   "outputs": [],
   "source": [
    "int broj_elemenata(Red *red)\n",
    "{\n",
    "    return -1;\n",
    "}"
   ]
  },
  {
   "cell_type": "code",
   "execution_count": 14,
   "metadata": {},
   "outputs": [
    {
     "name": "stdout",
     "output_type": "stream",
     "text": [
      "Izlaz -> 5 22 7 15 <- Ulaz"
     ]
    }
   ],
   "source": [
    "ispis(&red)"
   ]
  },
  {
   "cell_type": "code",
   "execution_count": 15,
   "metadata": {},
   "outputs": [
    {
     "data": {
      "text/plain": [
       "-1"
      ]
     },
     "execution_count": 15,
     "metadata": {},
     "output_type": "execute_result"
    }
   ],
   "source": [
    "broj_elemenata(&red)"
   ]
  },
  {
   "cell_type": "markdown",
   "metadata": {},
   "source": [
    "#### Zadatak 3.\n",
    "Napisati funkciju za brisanje reda."
   ]
  },
  {
   "cell_type": "code",
   "execution_count": 16,
   "metadata": {},
   "outputs": [],
   "source": [
    "int prazni(Red *red)\n",
    "{\n",
    "    return -1;\n",
    "}"
   ]
  },
  {
   "cell_type": "code",
   "execution_count": 19,
   "metadata": {},
   "outputs": [
    {
     "name": "stdout",
     "output_type": "stream",
     "text": [
      "Izlaz -> 5 22 7 15 <- Ulaz"
     ]
    }
   ],
   "source": [
    "ispis(&red)"
   ]
  },
  {
   "cell_type": "code",
   "execution_count": 21,
   "metadata": {},
   "outputs": [
    {
     "data": {
      "text/plain": [
       "-1"
      ]
     },
     "execution_count": 21,
     "metadata": {},
     "output_type": "execute_result"
    }
   ],
   "source": [
    "prazni(&red)"
   ]
  },
  {
   "cell_type": "code",
   "execution_count": 20,
   "metadata": {},
   "outputs": [
    {
     "name": "stdout",
     "output_type": "stream",
     "text": [
      "Izlaz -> 5 22 7 15 <- Ulaz"
     ]
    }
   ],
   "source": [
    "ispis(&red)"
   ]
  },
  {
   "cell_type": "code",
   "execution_count": null,
   "metadata": {},
   "outputs": [],
   "source": []
  }
 ],
 "metadata": {
  "kernelspec": {
   "display_name": "C++17",
   "language": "C++17",
   "name": "xcpp17"
  },
  "language_info": {
   "codemirror_mode": "text/x-c++src",
   "file_extension": ".cpp",
   "mimetype": "text/x-c++src",
   "name": "c++",
   "version": "17"
  }
 },
 "nbformat": 4,
 "nbformat_minor": 4
}
